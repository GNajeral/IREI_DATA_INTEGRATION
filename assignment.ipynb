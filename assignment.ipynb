{
 "cells": [
  {
   "cell_type": "code",
   "execution_count": 113,
   "metadata": {},
   "outputs": [],
   "source": [
    "import pandas as pd\n",
    "from sklearn.preprocessing import LabelEncoder\n",
    "from sklearn.impute import SimpleImputer\n",
    "\n",
    "adult_df = pd.read_csv(\"Data/adult.csv\")\n",
    "county_df = pd.read_csv(\"Data/acs2017_county_data.csv\")"
   ]
  },
  {
   "cell_type": "code",
   "execution_count": 114,
   "metadata": {},
   "outputs": [
    {
     "name": "stdout",
     "output_type": "stream",
     "text": [
      "\n",
      "ADULT_CENSUS_DATA:\n",
      " Index(['age', 'workclass', 'fnlwgt', 'education', 'education.num',\n",
      "       'marital.status', 'occupation', 'relationship', 'race', 'sex',\n",
      "       'capital.gain', 'capital.loss', 'hours.per.week', 'native.country',\n",
      "       'income'],\n",
      "      dtype='object')\n",
      "\n",
      "US_CENSUS_COLUMNS:\n",
      " Index(['CountyId', 'State', 'County', 'TotalPop', 'Men', 'Women', 'Hispanic',\n",
      "       'White', 'Black', 'Native', 'Asian', 'Pacific', 'VotingAgeCitizen',\n",
      "       'Income', 'IncomeErr', 'IncomePerCap', 'IncomePerCapErr', 'Poverty',\n",
      "       'ChildPoverty', 'Professional', 'Service', 'Office', 'Construction',\n",
      "       'Production', 'Drive', 'Carpool', 'Transit', 'Walk', 'OtherTransp',\n",
      "       'WorkAtHome', 'MeanCommute', 'Employed', 'PrivateWork', 'PublicWork',\n",
      "       'SelfEmployed', 'FamilyWork', 'Unemployment'],\n",
      "      dtype='object')\n"
     ]
    }
   ],
   "source": [
    "print(\"\\nADULT_CENSUS_DATA:\\n\", adult_df.columns)\n",
    "print(\"\\nUS_CENSUS_COLUMNS:\\n\", county_df.columns)"
   ]
  },
  {
   "attachments": {},
   "cell_type": "markdown",
   "metadata": {},
   "source": [
    "### Preprocessing"
   ]
  },
  {
   "cell_type": "code",
   "execution_count": 115,
   "metadata": {},
   "outputs": [],
   "source": [
    "adult_df.workclass = adult_df.workclass.apply(lambda x: 'unknown' if (x == '?') else x)\n",
    "adult_df.occupation = adult_df.occupation.apply(lambda x: 'unknown' if (x == '?') else x)\n",
    "\n",
    "# Imputation of nulls using Simple Imputer\n",
    "imputer = SimpleImputer(strategy='most_frequent')\n",
    "county_df['ChildPoverty'] = imputer.fit_transform(county_df[['ChildPoverty']])\n",
    "\n",
    "# Convert Income to binary in county_df\n",
    "county_df.Income = county_df.Income.apply(lambda x: '<=50K' if (x <= 50000) else '>50K')"
   ]
  },
  {
   "cell_type": "code",
   "execution_count": 116,
   "metadata": {},
   "outputs": [],
   "source": [
    "# Encode categorical variables in the adult_df\n",
    "le = LabelEncoder()\n",
    "adult_df['workclass'] = le.fit_transform(adult_df['workclass'])\n",
    "adult_df['education'] = le.fit_transform(adult_df['education'])\n",
    "adult_df['marital.status'] = le.fit_transform(adult_df['marital.status'])\n",
    "adult_df['occupation'] = le.fit_transform(adult_df['occupation'])\n",
    "adult_df['relationship'] = le.fit_transform(adult_df['relationship'])\n",
    "adult_df['race'] = le.fit_transform(adult_df['race'])\n",
    "adult_df['sex'] = le.fit_transform(adult_df['sex'])\n",
    "adult_df['native.country'] = le.fit_transform(adult_df['native.country'])\n",
    "adult_df['income'] = le.fit_transform(adult_df['income'])\n",
    "\n",
    "# Encode categorical variables in the county_df\n",
    "le_us_census = LabelEncoder()\n",
    "county_df['State'] = le_us_census.fit_transform(county_df['State'])\n",
    "county_df['County'] = le_us_census.fit_transform(county_df['County'])\n",
    "county_df['Income'] = le.fit_transform(county_df['Income'])"
   ]
  },
  {
   "cell_type": "code",
   "execution_count": 117,
   "metadata": {},
   "outputs": [
    {
     "name": "stderr",
     "output_type": "stream",
     "text": [
      "c:\\Users\\guill\\anaconda3\\envs\\IREI\\lib\\site-packages\\sklearn\\linear_model\\_logistic.py:458: ConvergenceWarning: lbfgs failed to converge (status=1):\n",
      "STOP: TOTAL NO. of ITERATIONS REACHED LIMIT.\n",
      "\n",
      "Increase the number of iterations (max_iter) or scale the data as shown in:\n",
      "    https://scikit-learn.org/stable/modules/preprocessing.html\n",
      "Please also refer to the documentation for alternative solver options:\n",
      "    https://scikit-learn.org/stable/modules/linear_model.html#logistic-regression\n",
      "  n_iter_i = _check_optimize_result(\n"
     ]
    },
    {
     "data": {
      "text/html": [
       "<style>#sk-container-id-14 {color: black;background-color: white;}#sk-container-id-14 pre{padding: 0;}#sk-container-id-14 div.sk-toggleable {background-color: white;}#sk-container-id-14 label.sk-toggleable__label {cursor: pointer;display: block;width: 100%;margin-bottom: 0;padding: 0.3em;box-sizing: border-box;text-align: center;}#sk-container-id-14 label.sk-toggleable__label-arrow:before {content: \"▸\";float: left;margin-right: 0.25em;color: #696969;}#sk-container-id-14 label.sk-toggleable__label-arrow:hover:before {color: black;}#sk-container-id-14 div.sk-estimator:hover label.sk-toggleable__label-arrow:before {color: black;}#sk-container-id-14 div.sk-toggleable__content {max-height: 0;max-width: 0;overflow: hidden;text-align: left;background-color: #f0f8ff;}#sk-container-id-14 div.sk-toggleable__content pre {margin: 0.2em;color: black;border-radius: 0.25em;background-color: #f0f8ff;}#sk-container-id-14 input.sk-toggleable__control:checked~div.sk-toggleable__content {max-height: 200px;max-width: 100%;overflow: auto;}#sk-container-id-14 input.sk-toggleable__control:checked~label.sk-toggleable__label-arrow:before {content: \"▾\";}#sk-container-id-14 div.sk-estimator input.sk-toggleable__control:checked~label.sk-toggleable__label {background-color: #d4ebff;}#sk-container-id-14 div.sk-label input.sk-toggleable__control:checked~label.sk-toggleable__label {background-color: #d4ebff;}#sk-container-id-14 input.sk-hidden--visually {border: 0;clip: rect(1px 1px 1px 1px);clip: rect(1px, 1px, 1px, 1px);height: 1px;margin: -1px;overflow: hidden;padding: 0;position: absolute;width: 1px;}#sk-container-id-14 div.sk-estimator {font-family: monospace;background-color: #f0f8ff;border: 1px dotted black;border-radius: 0.25em;box-sizing: border-box;margin-bottom: 0.5em;}#sk-container-id-14 div.sk-estimator:hover {background-color: #d4ebff;}#sk-container-id-14 div.sk-parallel-item::after {content: \"\";width: 100%;border-bottom: 1px solid gray;flex-grow: 1;}#sk-container-id-14 div.sk-label:hover label.sk-toggleable__label {background-color: #d4ebff;}#sk-container-id-14 div.sk-serial::before {content: \"\";position: absolute;border-left: 1px solid gray;box-sizing: border-box;top: 0;bottom: 0;left: 50%;z-index: 0;}#sk-container-id-14 div.sk-serial {display: flex;flex-direction: column;align-items: center;background-color: white;padding-right: 0.2em;padding-left: 0.2em;position: relative;}#sk-container-id-14 div.sk-item {position: relative;z-index: 1;}#sk-container-id-14 div.sk-parallel {display: flex;align-items: stretch;justify-content: center;background-color: white;position: relative;}#sk-container-id-14 div.sk-item::before, #sk-container-id-14 div.sk-parallel-item::before {content: \"\";position: absolute;border-left: 1px solid gray;box-sizing: border-box;top: 0;bottom: 0;left: 50%;z-index: -1;}#sk-container-id-14 div.sk-parallel-item {display: flex;flex-direction: column;z-index: 1;position: relative;background-color: white;}#sk-container-id-14 div.sk-parallel-item:first-child::after {align-self: flex-end;width: 50%;}#sk-container-id-14 div.sk-parallel-item:last-child::after {align-self: flex-start;width: 50%;}#sk-container-id-14 div.sk-parallel-item:only-child::after {width: 0;}#sk-container-id-14 div.sk-dashed-wrapped {border: 1px dashed gray;margin: 0 0.4em 0.5em 0.4em;box-sizing: border-box;padding-bottom: 0.4em;background-color: white;}#sk-container-id-14 div.sk-label label {font-family: monospace;font-weight: bold;display: inline-block;line-height: 1.2em;}#sk-container-id-14 div.sk-label-container {text-align: center;}#sk-container-id-14 div.sk-container {/* jupyter's `normalize.less` sets `[hidden] { display: none; }` but bootstrap.min.css set `[hidden] { display: none !important; }` so we also need the `!important` here to be able to override the default hidden behavior on the sphinx rendered scikit-learn.org. See: https://github.com/scikit-learn/scikit-learn/issues/21755 */display: inline-block !important;position: relative;}#sk-container-id-14 div.sk-text-repr-fallback {display: none;}</style><div id=\"sk-container-id-14\" class=\"sk-top-container\"><div class=\"sk-text-repr-fallback\"><pre>LogisticRegression()</pre><b>In a Jupyter environment, please rerun this cell to show the HTML representation or trust the notebook. <br />On GitHub, the HTML representation is unable to render, please try loading this page with nbviewer.org.</b></div><div class=\"sk-container\" hidden><div class=\"sk-item\"><div class=\"sk-estimator sk-toggleable\"><input class=\"sk-toggleable__control sk-hidden--visually\" id=\"sk-estimator-id-14\" type=\"checkbox\" checked><label for=\"sk-estimator-id-14\" class=\"sk-toggleable__label sk-toggleable__label-arrow\">LogisticRegression</label><div class=\"sk-toggleable__content\"><pre>LogisticRegression()</pre></div></div></div></div></div>"
      ],
      "text/plain": [
       "LogisticRegression()"
      ]
     },
     "execution_count": 117,
     "metadata": {},
     "output_type": "execute_result"
    }
   ],
   "source": [
    "from sklearn.linear_model import LogisticRegression\n",
    "#from sklearn.model_selection import train_test_split\n",
    "#from sklearn.preprocessing import StandardScaler\n",
    "\n",
    "# Train logistic regression model for adult_df\n",
    "X_adult = pd.DataFrame(adult_df)\n",
    "y_adult = X_adult.pop('income')\n",
    "#X_train_adult, X_test_adult, y_train_adult, y_test_adult = train_test_split(X_adult, y_adult, test_size=0.2, random_state=42)\n",
    "\n",
    "adult_model = LogisticRegression()\n",
    "adult_model.fit(X_adult, y_adult)\n",
    "#adult_model.fit(X_train_adult, y_train_adult)\n",
    "\n",
    "# Train logistic regression model for county_df\n",
    "X_county = pd.DataFrame(county_df)\n",
    "y_county = county_df.pop('Income')\n",
    "\n",
    "# Scale the input features of county_df using a standard scaler\n",
    "#scaler_county = StandardScaler()\n",
    "#X_county_scaled = scaler_county.fit_transform(X_county)\n",
    "#X_train_county, X_test_county, y_train_county, y_test_county = train_test_split(X_county_scaled, y_county, test_size=0.2, random_state=42)\n",
    "\n",
    "county_model = LogisticRegression()\n",
    "county_model.fit(X_county, y_county)\n",
    "#county_model.fit(X_train_county, y_train_county)"
   ]
  },
  {
   "cell_type": "code",
   "execution_count": 118,
   "metadata": {},
   "outputs": [
    {
     "name": "stdout",
     "output_type": "stream",
     "text": [
      "Adults Dataset:  0.7876907957372317\n",
      "County Dataset:  0.7822981366459627\n"
     ]
    }
   ],
   "source": [
    "from sklearn.metrics import accuracy_score\n",
    "\n",
    "y_pred_adult = adult_model.predict(X_adult)\n",
    "print(\"Adults Dataset: \", accuracy_score(y_adult, y_pred_adult))\n",
    "\n",
    "y_pred_county = county_model.predict(X_county)\n",
    "print(\"County Dataset: \", accuracy_score(y_county, y_pred_county))"
   ]
  },
  {
   "cell_type": "code",
   "execution_count": 119,
   "metadata": {},
   "outputs": [
    {
     "ename": "KeyError",
     "evalue": "'Income'",
     "output_type": "error",
     "traceback": [
      "\u001b[1;31m---------------------------------------------------------------------------\u001b[0m",
      "\u001b[1;31mKeyError\u001b[0m                                  Traceback (most recent call last)",
      "File \u001b[1;32mc:\\Users\\guill\\anaconda3\\envs\\IREI\\lib\\site-packages\\pandas\\core\\indexes\\base.py:3652\u001b[0m, in \u001b[0;36mIndex.get_loc\u001b[1;34m(self, key)\u001b[0m\n\u001b[0;32m   3651\u001b[0m \u001b[39mtry\u001b[39;00m:\n\u001b[1;32m-> 3652\u001b[0m     \u001b[39mreturn\u001b[39;00m \u001b[39mself\u001b[39;49m\u001b[39m.\u001b[39;49m_engine\u001b[39m.\u001b[39;49mget_loc(casted_key)\n\u001b[0;32m   3653\u001b[0m \u001b[39mexcept\u001b[39;00m \u001b[39mKeyError\u001b[39;00m \u001b[39mas\u001b[39;00m err:\n",
      "File \u001b[1;32mc:\\Users\\guill\\anaconda3\\envs\\IREI\\lib\\site-packages\\pandas\\_libs\\index.pyx:147\u001b[0m, in \u001b[0;36mpandas._libs.index.IndexEngine.get_loc\u001b[1;34m()\u001b[0m\n",
      "File \u001b[1;32mc:\\Users\\guill\\anaconda3\\envs\\IREI\\lib\\site-packages\\pandas\\_libs\\index.pyx:176\u001b[0m, in \u001b[0;36mpandas._libs.index.IndexEngine.get_loc\u001b[1;34m()\u001b[0m\n",
      "File \u001b[1;32mpandas\\_libs\\hashtable_class_helper.pxi:7080\u001b[0m, in \u001b[0;36mpandas._libs.hashtable.PyObjectHashTable.get_item\u001b[1;34m()\u001b[0m\n",
      "File \u001b[1;32mpandas\\_libs\\hashtable_class_helper.pxi:7088\u001b[0m, in \u001b[0;36mpandas._libs.hashtable.PyObjectHashTable.get_item\u001b[1;34m()\u001b[0m\n",
      "\u001b[1;31mKeyError\u001b[0m: 'Income'",
      "\nThe above exception was the direct cause of the following exception:\n",
      "\u001b[1;31mKeyError\u001b[0m                                  Traceback (most recent call last)",
      "Cell \u001b[1;32mIn[119], line 1\u001b[0m\n\u001b[1;32m----> 1\u001b[0m \u001b[39mprint\u001b[39m(county_df[\u001b[39m'\u001b[39;49m\u001b[39mIncome\u001b[39;49m\u001b[39m'\u001b[39;49m])\n",
      "File \u001b[1;32mc:\\Users\\guill\\anaconda3\\envs\\IREI\\lib\\site-packages\\pandas\\core\\frame.py:3760\u001b[0m, in \u001b[0;36mDataFrame.__getitem__\u001b[1;34m(self, key)\u001b[0m\n\u001b[0;32m   3758\u001b[0m \u001b[39mif\u001b[39;00m \u001b[39mself\u001b[39m\u001b[39m.\u001b[39mcolumns\u001b[39m.\u001b[39mnlevels \u001b[39m>\u001b[39m \u001b[39m1\u001b[39m:\n\u001b[0;32m   3759\u001b[0m     \u001b[39mreturn\u001b[39;00m \u001b[39mself\u001b[39m\u001b[39m.\u001b[39m_getitem_multilevel(key)\n\u001b[1;32m-> 3760\u001b[0m indexer \u001b[39m=\u001b[39m \u001b[39mself\u001b[39;49m\u001b[39m.\u001b[39;49mcolumns\u001b[39m.\u001b[39;49mget_loc(key)\n\u001b[0;32m   3761\u001b[0m \u001b[39mif\u001b[39;00m is_integer(indexer):\n\u001b[0;32m   3762\u001b[0m     indexer \u001b[39m=\u001b[39m [indexer]\n",
      "File \u001b[1;32mc:\\Users\\guill\\anaconda3\\envs\\IREI\\lib\\site-packages\\pandas\\core\\indexes\\base.py:3654\u001b[0m, in \u001b[0;36mIndex.get_loc\u001b[1;34m(self, key)\u001b[0m\n\u001b[0;32m   3652\u001b[0m     \u001b[39mreturn\u001b[39;00m \u001b[39mself\u001b[39m\u001b[39m.\u001b[39m_engine\u001b[39m.\u001b[39mget_loc(casted_key)\n\u001b[0;32m   3653\u001b[0m \u001b[39mexcept\u001b[39;00m \u001b[39mKeyError\u001b[39;00m \u001b[39mas\u001b[39;00m err:\n\u001b[1;32m-> 3654\u001b[0m     \u001b[39mraise\u001b[39;00m \u001b[39mKeyError\u001b[39;00m(key) \u001b[39mfrom\u001b[39;00m \u001b[39merr\u001b[39;00m\n\u001b[0;32m   3655\u001b[0m \u001b[39mexcept\u001b[39;00m \u001b[39mTypeError\u001b[39;00m:\n\u001b[0;32m   3656\u001b[0m     \u001b[39m# If we have a listlike key, _check_indexing_error will raise\u001b[39;00m\n\u001b[0;32m   3657\u001b[0m     \u001b[39m#  InvalidIndexError. Otherwise we fall through and re-raise\u001b[39;00m\n\u001b[0;32m   3658\u001b[0m     \u001b[39m#  the TypeError.\u001b[39;00m\n\u001b[0;32m   3659\u001b[0m     \u001b[39mself\u001b[39m\u001b[39m.\u001b[39m_check_indexing_error(key)\n",
      "\u001b[1;31mKeyError\u001b[0m: 'Income'"
     ]
    }
   ],
   "source": [
    "print(county_df['Income'])"
   ]
  },
  {
   "cell_type": "code",
   "execution_count": null,
   "metadata": {},
   "outputs": [],
   "source": [
    "adult_df.insert(loc=0, column='score', value=y_pred_adult)\n",
    "\n",
    "adult_df = adult_df.rename(columns={\"income\": \"label_value\"})\n",
    "cols = adult_df.columns.tolist()\n",
    "cols.remove('label_value')\n",
    "cols.insert(1, 'label_value')\n",
    "adult_df = adult_df[cols]\n",
    "\n",
    "\n",
    "\n",
    "county_df.insert(loc=0, column='score', value=y_pred_county)\n",
    "\n",
    "county_df = county_df.rename(columns={\"Income\": \"label_value\"})\n",
    "\n",
    "# cols = county_df.columns.tolist()\n",
    "# cols.remove('label_value')\n",
    "# cols.insert(1, 'label_value')\n",
    "# county_df = county_df[cols]\n",
    "\n",
    "# print(county_df)\n",
    "\n",
    "# # Prepare data for Aequitas\n",
    "# aequitas_county_df = X_test_county[['Men', 'Women', 'Hispanic', 'White', 'Black', 'Native', 'Asian', 'Pacific']].copy()\n",
    "# aequitas_county_df['label_value'] = y_test_county.values\n",
    "# aequitas_county_df['score'] = y_pred_county"
   ]
  },
  {
   "cell_type": "code",
   "execution_count": null,
   "metadata": {},
   "outputs": [
    {
     "ename": "NameError",
     "evalue": "name 'fl' is not defined",
     "output_type": "error",
     "traceback": [
      "\u001b[1;31m---------------------------------------------------------------------------\u001b[0m",
      "\u001b[1;31mNameError\u001b[0m                                 Traceback (most recent call last)",
      "Cell \u001b[1;32mIn[84], line 2\u001b[0m\n\u001b[0;32m      1\u001b[0m \u001b[39m# Visualize the distribution of income levels across gender and race for the adult_df model\u001b[39;00m\n\u001b[1;32m----> 2\u001b[0m fl\u001b[39m.\u001b[39mplot_distribution(adult_df, \u001b[39m'\u001b[39m\u001b[39mincome\u001b[39m\u001b[39m'\u001b[39m, \u001b[39m'\u001b[39m\u001b[39mgender\u001b[39m\u001b[39m'\u001b[39m, \u001b[39m'\u001b[39m\u001b[39mrace\u001b[39m\u001b[39m'\u001b[39m, model\u001b[39m=\u001b[39madult_model, X_test\u001b[39m=\u001b[39mX_test_adult, y_test\u001b[39m=\u001b[39my_test_adult)\n\u001b[0;32m      4\u001b[0m \u001b[39m# Visualize the distribution of income_per_capita_binary across gender and race for the county_df model\u001b[39;00m\n\u001b[0;32m      5\u001b[0m fl\u001b[39m.\u001b[39mplot_distribution(county_df, \u001b[39m'\u001b[39m\u001b[39mincome_per_capita_binary\u001b[39m\u001b[39m'\u001b[39m, \u001b[39m'\u001b[39m\u001b[39mgender\u001b[39m\u001b[39m'\u001b[39m, \u001b[39m'\u001b[39m\u001b[39mrace\u001b[39m\u001b[39m'\u001b[39m, model\u001b[39m=\u001b[39mus_census_model, X_test\u001b[39m=\u001b[39mX_test_us_census, y_test\u001b[39m=\u001b[39my_test_us_census)\n",
      "\u001b[1;31mNameError\u001b[0m: name 'fl' is not defined"
     ]
    }
   ],
   "source": [
    "# Visualize the distribution of income levels across gender and race for the adult_df model\n",
    "fl.plot_distribution(adult_df, 'income', 'gender', 'race', model=adult_model, X_test=X_test_adult, y_test=y_test_adult)\n",
    "\n",
    "# Visualize the distribution of income_per_capita_binary across gender and race for the county_df model\n",
    "fl.plot_distribution(county_df, 'income_per_capita_binary', 'gender', 'race', model=us_census_model, X_test=X_test_us_census, y_test=y_test_us_census)\n",
    "\n"
   ]
  },
  {
   "cell_type": "code",
   "execution_count": null,
   "metadata": {},
   "outputs": [
    {
     "ename": "TypeError",
     "evalue": "__init__() got an unexpected keyword argument 'target_attribute'",
     "output_type": "error",
     "traceback": [
      "\u001b[1;31m---------------------------------------------------------------------------\u001b[0m",
      "\u001b[1;31mTypeError\u001b[0m                                 Traceback (most recent call last)",
      "Cell \u001b[1;32mIn[162], line 2\u001b[0m\n\u001b[0;32m      1\u001b[0m \u001b[39m# Automatically generate a report\u001b[39;00m\n\u001b[1;32m----> 2\u001b[0m fscorer \u001b[39m=\u001b[39m fl\u001b[39m.\u001b[39;49mFairnessScorer(\n\u001b[0;32m      3\u001b[0m     adult_df,\n\u001b[0;32m      4\u001b[0m     target_attribute\u001b[39m=\u001b[39;49m\u001b[39m\"\u001b[39;49m\u001b[39mincome\u001b[39;49m\u001b[39m\"\u001b[39;49m,\n\u001b[0;32m      5\u001b[0m     sensitive_attributes\u001b[39m=\u001b[39;49m[\n\u001b[0;32m      6\u001b[0m         \u001b[39m\"\u001b[39;49m\u001b[39mage\u001b[39;49m\u001b[39m\"\u001b[39;49m,\n\u001b[0;32m      7\u001b[0m         \u001b[39m\"\u001b[39;49m\u001b[39mrace\u001b[39;49m\u001b[39m\"\u001b[39;49m,\n\u001b[0;32m      8\u001b[0m         \u001b[39m\"\u001b[39;49m\u001b[39msex\u001b[39;49m\u001b[39m\"\u001b[39;49m\n\u001b[0;32m      9\u001b[0m     ]\n\u001b[0;32m     10\u001b[0m )\n\u001b[0;32m     11\u001b[0m fscorer\u001b[39m.\u001b[39mdemographic_report()\n",
      "\u001b[1;31mTypeError\u001b[0m: __init__() got an unexpected keyword argument 'target_attribute'"
     ]
    }
   ],
   "source": [
    "# Automatically generate a report\n",
    "fscorer = fl.FairnessScorer(\n",
    "    adult_df,\n",
    "    target_attribute=\"income\",\n",
    "    sensitive_attributes=[\n",
    "        \"age\",\n",
    "        \"race\",\n",
    "        \"sex\"\n",
    "    ]\n",
    ")\n",
    "fscorer.demographic_report()"
   ]
  },
  {
   "cell_type": "code",
   "execution_count": null,
   "metadata": {},
   "outputs": [],
   "source": []
  },
  {
   "cell_type": "code",
   "execution_count": null,
   "metadata": {},
   "outputs": [],
   "source": []
  },
  {
   "cell_type": "code",
   "execution_count": null,
   "metadata": {},
   "outputs": [],
   "source": []
  }
 ],
 "metadata": {
  "kernelspec": {
   "display_name": "tfdml_plugin",
   "language": "python",
   "name": "python3"
  },
  "language_info": {
   "codemirror_mode": {
    "name": "ipython",
    "version": 3
   },
   "file_extension": ".py",
   "mimetype": "text/x-python",
   "name": "python",
   "nbconvert_exporter": "python",
   "pygments_lexer": "ipython3",
   "version": "3.9.16"
  },
  "orig_nbformat": 4
 },
 "nbformat": 4,
 "nbformat_minor": 2
}
