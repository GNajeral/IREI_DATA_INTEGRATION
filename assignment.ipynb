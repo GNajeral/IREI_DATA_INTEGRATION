{
 "cells": [
  {
   "cell_type": "code",
   "execution_count": 3,
   "metadata": {},
   "outputs": [],
   "source": [
    "import pandas as pd\n",
    "\n",
    "adult_census_data = pd.read_csv(\"Data/adult.csv\")\n",
    "us_census_data = pd.read_csv(\"Data/acs2017_census_tract_data.csv\")\n"
   ]
  },
  {
   "cell_type": "code",
   "execution_count": 13,
   "metadata": {},
   "outputs": [
    {
     "name": "stdout",
     "output_type": "stream",
     "text": [
      "\n",
      "AUDLT_CENSUS_DATA:\n",
      " Index(['age', 'workclass', 'fnlwgt', 'education', 'education.num',\n",
      "       'marital.status', 'occupation', 'relationship', 'race', 'sex',\n",
      "       'capital.gain', 'capital.loss', 'hours.per.week', 'native.country',\n",
      "       'income'],\n",
      "      dtype='object')\n",
      "\n",
      "US_CENSUS_COLUMNS:\n",
      " Index(['TractId', 'State', 'County', 'TotalPop', 'Men', 'Women', 'Hispanic',\n",
      "       'White', 'Black', 'Native', 'Asian', 'Pacific', 'VotingAgeCitizen',\n",
      "       'Income', 'IncomeErr', 'IncomePerCap', 'IncomePerCapErr', 'Poverty',\n",
      "       'ChildPoverty', 'Professional', 'Service', 'Office', 'Construction',\n",
      "       'Production', 'Drive', 'Carpool', 'Transit', 'Walk', 'OtherTransp',\n",
      "       'WorkAtHome', 'MeanCommute', 'Employed', 'PrivateWork', 'PublicWork',\n",
      "       'SelfEmployed', 'FamilyWork', 'Unemployment'],\n",
      "      dtype='object')\n"
     ]
    }
   ],
   "source": [
    "print(\"\\nAUDLT_CENSUS_DATA:\\n\", adult_census_data.columns)\n",
    "print(\"\\nUS_CENSUS_COLUMNS:\\n\", us_census_data.columns)"
   ]
  }
 ],
 "metadata": {
  "kernelspec": {
   "display_name": "tfdml_plugin",
   "language": "python",
   "name": "python3"
  },
  "language_info": {
   "codemirror_mode": {
    "name": "ipython",
    "version": 3
   },
   "file_extension": ".py",
   "mimetype": "text/x-python",
   "name": "python",
   "nbconvert_exporter": "python",
   "pygments_lexer": "ipython3",
   "version": "3.9.16"
  },
  "orig_nbformat": 4
 },
 "nbformat": 4,
 "nbformat_minor": 2
}
